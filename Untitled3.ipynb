{
 "cells": [
  {
   "cell_type": "markdown",
   "id": "e6602613",
   "metadata": {},
   "source": [
    "anova using sklearn"
   ]
  },
  {
   "cell_type": "code",
   "execution_count": 1,
   "id": "ce846a69",
   "metadata": {},
   "outputs": [],
   "source": [
    "from sklearn.datasets import load_iris\n",
    "from sklearn.feature_selection import SelectKBest\n",
    "from sklearn.feature_selection import f_classif"
   ]
  },
  {
   "cell_type": "code",
   "execution_count": 16,
   "id": "9d7cbb68",
   "metadata": {},
   "outputs": [],
   "source": [
    "iris = load_iris()\n",
    "X = iris.data\n",
    "y = iris.target"
   ]
  },
  {
   "cell_type": "code",
   "execution_count": 22,
   "id": "38e10bac",
   "metadata": {},
   "outputs": [],
   "source": [
    "anova = SelectKBest(f_classif, k=2)\n",
    "X_selected = anova.fit_transform(X, y)"
   ]
  },
  {
   "cell_type": "code",
   "execution_count": 23,
   "id": "1bb76830",
   "metadata": {},
   "outputs": [
    {
     "data": {
      "text/plain": [
       "(array([ 119.26450218,   49.16004009, 1180.16118225,  960.0071468 ]),\n",
       " array([1.66966919e-31, 4.49201713e-17, 2.85677661e-91, 4.16944584e-85]))"
      ]
     },
     "execution_count": 23,
     "metadata": {},
     "output_type": "execute_result"
    }
   ],
   "source": [
    "anova.scores_, anova.pvalues_"
   ]
  },
  {
   "cell_type": "code",
   "execution_count": 24,
   "id": "3dca72d9",
   "metadata": {},
   "outputs": [],
   "source": [
    "import numpy as np"
   ]
  },
  {
   "cell_type": "code",
   "execution_count": 32,
   "id": "de1fb672",
   "metadata": {},
   "outputs": [],
   "source": [
    "classes = np.unique(y)\n",
    "n_classes = len(classes)\n",
    "n_samples ,n_features = X.shape"
   ]
  },
  {
   "cell_type": "code",
   "execution_count": 33,
   "id": "31e3d598",
   "metadata": {},
   "outputs": [],
   "source": [
    "groups = {key: [] for key in classes}\n",
    " \n",
    "for i in range(n_samples):\n",
    "    groups[y[i]].append(X[i,:])\n",
    "    \n",
    "groups = {key: np.array(val) for key,val in groups.items()}"
   ]
  },
  {
   "cell_type": "code",
   "execution_count": 34,
   "id": "4c75092b",
   "metadata": {},
   "outputs": [],
   "source": [
    "def compute_means(groups):\n",
    "    means = {key: [] for key in classes}\n",
    "    for y_, x_ in groups.items():\n",
    "        cols = [groups[y_][:,i] for i in range(n_features)]\n",
    "        means[y_] = [col.mean() for col in cols]\n",
    "    grand_mean = []\n",
    "    for i in range(n_features):\n",
    "        grand_mean.append(X[:,i].mean())\n",
    "    return means, grand_mean"
   ]
  },
  {
   "cell_type": "code",
   "execution_count": 35,
   "id": "512c0b6f",
   "metadata": {},
   "outputs": [],
   "source": [
    "def get_btw(groups, means, grand_mean):\n",
    "    SS_btw = np.zeros(n_features)\n",
    "    for y_, x_ in groups.items():\n",
    "        for i in range(n_features):\n",
    "            SS_btw[i] += len(x_)*(means[y_][i]-grand_mean[i])**2\n",
    "\n",
    "    n_classes = len(groups)\n",
    "    df_btw = n_classes - 1\n",
    "    MS_btw = SS_btw/df_btw\n",
    "    return SS_btw, MS_btw"
   ]
  },
  {
   "cell_type": "code",
   "execution_count": 36,
   "id": "add23b5e",
   "metadata": {},
   "outputs": [],
   "source": [
    "def get_wthn(groups, means, grand_mean):\n",
    "    SS_wthn = np.zeros(n_features)\n",
    "    for y_, x_ in groups.items():\n",
    "        for i in range(n_features):\n",
    "            SS_wthn[i] += sum((x_[:,i] - means[y_][i])**2)\n",
    "    n_classes = len(groups)\n",
    "    df_wthn = n_samples - n_classes\n",
    "    MS_wthn = [SS/df_wthn for SS in SS_wthn]\n",
    "    return SS_wthn, MS_wthn"
   ]
  },
  {
   "cell_type": "code",
   "execution_count": 37,
   "id": "414f6b4d",
   "metadata": {},
   "outputs": [],
   "source": [
    "def get_fvalues(groups):\n",
    "    means, grand_mean = compute_means(groups)\n",
    "    _, MS_btw = get_btw(groups, means, grand_mean)\n",
    "    _, MS_wthn = get_wthn(groups, means, grand_mean)\n",
    "    F = MS_btw/MS_wthn\n",
    "    return F"
   ]
  },
  {
   "cell_type": "code",
   "execution_count": 41,
   "id": "4c9c4e9a",
   "metadata": {},
   "outputs": [],
   "source": [
    "def select_k_features(groups,k):\n",
    "    F = get_fvalues(groups)\n",
    "    indices = (-F).argsort()[:k]\n",
    "    return indices"
   ]
  },
  {
   "cell_type": "code",
   "execution_count": 42,
   "id": "33c3787d",
   "metadata": {},
   "outputs": [
    {
     "data": {
      "text/plain": [
       "array([ 119.26450218,   49.16004009, 1180.16118225,  960.0071468 ])"
      ]
     },
     "execution_count": 42,
     "metadata": {},
     "output_type": "execute_result"
    }
   ],
   "source": [
    "get_fvalues(groups)"
   ]
  },
  {
   "cell_type": "code",
   "execution_count": 43,
   "id": "9d170b2b",
   "metadata": {},
   "outputs": [
    {
     "data": {
      "text/plain": [
       "array([2, 3], dtype=int64)"
      ]
     },
     "execution_count": 43,
     "metadata": {},
     "output_type": "execute_result"
    }
   ],
   "source": [
    "select_k_features(groups,2)"
   ]
  },
  {
   "cell_type": "code",
   "execution_count": null,
   "id": "0abd7ef3",
   "metadata": {},
   "outputs": [],
   "source": []
  }
 ],
 "metadata": {
  "kernelspec": {
   "display_name": "Python 3",
   "language": "python",
   "name": "python3"
  },
  "language_info": {
   "codemirror_mode": {
    "name": "ipython",
    "version": 3
   },
   "file_extension": ".py",
   "mimetype": "text/x-python",
   "name": "python",
   "nbconvert_exporter": "python",
   "pygments_lexer": "ipython3",
   "version": "3.8.10"
  }
 },
 "nbformat": 4,
 "nbformat_minor": 5
}
